{
 "cells": [
  {
   "cell_type": "code",
   "execution_count": 2,
   "id": "117a426b",
   "metadata": {},
   "outputs": [],
   "source": [
    "# Dependencies\n",
    "import os\n",
    "from bs4 import BeautifulSoup as bs"
   ]
  },
  {
   "cell_type": "code",
   "execution_count": 6,
   "id": "a6d8072e",
   "metadata": {},
   "outputs": [],
   "source": [
    "# Read HTML from file\n",
    "filepath = os.path.join(\"/Users/pipellorens/Downloads/10-1-Student_Resources 2/02-Stu_CNNSoup/Resources/template.html\")\n",
    "with open(filepath) as file:\n",
    "    html = file.read()"
   ]
  },
  {
   "cell_type": "code",
   "execution_count": 15,
   "id": "3be8bae5",
   "metadata": {},
   "outputs": [
    {
     "data": {
      "text/plain": [
       "<html>\n",
       "<head>\n",
       "<title>Top Ten Stories From 1996</title>\n",
       "</head>\n",
       "<body alink=\"#FFFFCE\" bgcolor=\"#FFFFCC\" link=\"#162323\" vlink=\"#162323\">\n",
       "<center>\n",
       "<p><br/>\n",
       "<table border=\"0\" cellpadding=\"0\" cellspacing=\"0\">\n",
       "<tr>\n",
       "<td><img align=\"TOP\" height=\"60\" src=\"logos.gif\" width=\"112\"/></td>\n",
       "<td><img align=\"TOP\" height=\"60\" src=\"banner.gif\" width=\"360\"/></td>\n",
       "</tr>\n",
       "</table>\n",
       "</p>\n",
       "</center>\n",
       "<blockquote>\n",
       "<center>\n",
       "<table border=\"0\" cellpadding=\"2\">\n",
       "<tr>\n",
       "<td rowspan=\"11\" valign=\"TOP\" width=\"90\">\n",
       "<p align=\"RIGHT\"><b><tt>What were the biggest stories of the year?</tt></b><br/>\n",
       "<br/>\n",
       "<font size=\"2\">It's a question journalists like to ask themselves at the end of every\n",
       "            year. Now you can join in the process. Here are our selections for the top ten news\n",
       "            stories of 1996.<br/>\n",
       "<br/>\n",
       "            Disagree with our choices? Then tell us what stories you think were most compelling\n",
       "            in the poll below.</font>\n",
       "</p></td>\n",
       "<td rowspan=\"11\" width=\"4\"></td>\n",
       "<td rowspan=\"11\" valign=\"MIDDLE\"><img align=\"MIDDLE\" height=\"250\" src=\"generic/dot.gif\" width=\"1\"/></td>\n",
       "<td rowspan=\"11\" width=\"10\"></td>\n",
       "<td colspan=\"4\" valign=\"TOP\">\n",
       "<p align=\"CENTER\"><img align=\"MIDDLE\" height=\"24\" src=\"generic/topten.gif\" vspace=\"5\" width=\"263\"/>\n",
       "</p></td>\n",
       "</tr>\n",
       "<tr>\n",
       "<td><a href=\"topten/israel/israel.index.html\" target=\"_top\"><img align=\"MIDDLE\" border=\"0\" height=\"17\" src=\"generic/1.gif\" width=\"17\"/></a></td>\n",
       "<td><a href=\"topten/israel/israel.index.html\" target=\"_top\"><b>Israel</b> elects <b>Netanyahu</b></a></td>\n",
       "</tr>\n",
       "<tr>\n",
       "<td><a href=\"topten/twa/twa.index.html\" target=\"_top\"><img align=\"MIDDLE\" border=\"0\" height=\"17\" src=\"generic/2.gif\" width=\"17\"/></a></td>\n",
       "<td><a href=\"topten/twa/twa.index.html\" target=\"_top\">Crash of TWA Flight 800</a></td>\n",
       "</tr>\n",
       "<tr>\n",
       "<td><a href=\"topten/yeltsin/yeltsin.index.html\" target=\"_top\"><img align=\"MIDDLE\" border=\"0\" height=\"17\" src=\"generic/3.gif\" width=\"17\"/></a></td>\n",
       "<td><a href=\"topten/yeltsin/yeltsin.index.html\" target=\"_top\"><b>Russia</b> elects <b>Yeltsin</b></a></td>\n",
       "</tr>\n",
       "<tr>\n",
       "<td><a href=\"topten/clinton/clinton.index.html\" target=\"_top\"><img align=\"MIDDLE\" border=\"0\" height=\"17\" src=\"generic/4.gif\" width=\"17\"/></a></td>\n",
       "<td><a href=\"topten/clinton/clinton.index.html\" target=\"_top\"><b>U.S</b>. elects <b>Clinton</b></a></td>\n",
       "</tr>\n",
       "<tr>\n",
       "<td><a href=\"topten/hutu/hutu.index.html\" target=\"_top\"><img align=\"MIDDLE\" border=\"0\" height=\"17\" src=\"generic/5.gif\" width=\"17\"/></a></td>\n",
       "<td><a href=\"topten/hutu/hutu.index.html\" target=\"_top\"><b>Hutu-Tutsi</b> conflict in central Africa</a></td>\n",
       "</tr>\n",
       "<tr>\n",
       "<td><a href=\"topten/bosnia/bosnia.index.html\" target=\"_top\"><img align=\"MIDDLE\" border=\"0\" height=\"17\" src=\"generic/6.gif\" width=\"17\"/></a></td>\n",
       "<td><a href=\"topten/bosnia/bosnia.index.html\" target=\"_top\">Peace, elections in <b>Bosnia</b></a></td>\n",
       "</tr>\n",
       "<tr>\n",
       "<td><a href=\"topten/saudi/saudi.index.html\" target=\"_top\"><img align=\"MIDDLE\" border=\"0\" height=\"17\" src=\"generic/7.gif\" width=\"17\"/></a></td>\n",
       "<td><a href=\"topten/saudi/saudi.index.html\" target=\"_top\"><b>U.S</b>. base bombed in <b>Saudi Arabia</b></a></td>\n",
       "</tr>\n",
       "<tr>\n",
       "<td><a href=\"topten/olympics/olympics.index.html\" target=\"_top\"><img align=\"MIDDLE\" border=\"0\" height=\"17\" src=\"generic/8.gif\" width=\"17\"/></a></td>\n",
       "<td><a href=\"topten/olympics/olympics.index.html\" target=\"_top\">Centennial <b>Olympic</b> Games</a></td>\n",
       "</tr>\n",
       "<tr>\n",
       "<td><a href=\"topten/aids/aids.index.html\" target=\"_top\"><img align=\"MIDDLE\" border=\"0\" height=\"17\" src=\"generic/9.gif\" width=\"17\"/></a></td>\n",
       "<td><a href=\"topten/aids/aids.index.html\" target=\"_top\">Advances against <b>AIDS</b></a></td>\n",
       "</tr>\n",
       "<tr>\n",
       "<td><a href=\"topten/unabomb/unabomb.index.html\" target=\"_top\"><img align=\"MIDDLE\" border=\"0\" height=\"17\" src=\"generic/10.gif\" width=\"17\"/></a></td>\n",
       "<td><a href=\"topten/unabomb/unabomb.index.html\" target=\"_top\"><b>Unabomb</b> suspect <b>Ted Kaczynski</b> arrested</a></td>\n",
       "</tr>\n",
       "</table>\n",
       "<br clear=\"all\"/>\n",
       "<table width=\"300\">\n",
       "<tr>\n",
       "<td>\n",
       "<center><a href=\"topten/poll.html\" target=\"_top\"><img align=\"MIDDLE\" border=\"0\" height=\"60\" src=\"poll.gif\" width=\"120\"/></a></center>\n",
       "</td>\n",
       "<td>\n",
       "<center><a href=\"http://www-cgi.cnn.com/cgi-bin/quiz/yir_main/go.pl/main\" target=\"_top\"><img align=\"MIDDLE\" border=\"0\" height=\"60\" src=\"quiz.gif\" width=\"120\"/></a></center>\n",
       "</td>\n",
       "</tr>\n",
       "<tr><td colspan=\"2\"><center><a href=\"http://www-cgi.cnn.com/cgi-bin/poll/heavypoll.pl?slug=9612%2Fyir_top_10\" target=\"_top\">The top 10 stories according to our users</a></center></td></tr>\n",
       "</table>\n",
       "<img align=\"MIDDLE\" height=\"1\" src=\"generic/dot.gif\" width=\"450\"/><br/>\n",
       "<br/><img align=\"MIDDLE\" height=\"1\" src=\"generic/dot.gif\" width=\"450\"/><br/>\n",
       "<br/>\n",
       "<center>\n",
       "<a href=\"http://pathfinder.com/time/bestof1996/index.html\" target=\"_top\">\n",
       "    T I M E: The Best of 1996</a>\n",
       "<br clear=\"all\"/><br/>\n",
       "<a href=\"http://pathfinder.com/@@qsdFOQcA62PJWEWu/time/moy/index.html\" target=\"_top\">\n",
       "    T I M E: Man of the Year</a>\n",
       "<br clear=\"all\"/><br/>\n",
       "<a href=\"http://pathfinder.com/time/1996/\" target=\"_top\">\n",
       "<img align=\"MIDDLE\" border=\"0\" height=\"50\" src=\"time.gif\" width=\"540\"/></a>\n",
       "<br clear=\"all\"/><br/><br/>\n",
       "<img align=\"MIDDLE\" height=\"1\" src=\"generic/dot.gif\" width=\"450\"/>\n",
       "</center>\n",
       "<br clear=\"all\"/>\n",
       "<table border=\"0\" cellpadding=\"0\" cellspacing=\"0\" width=\"63%\">\n",
       "<tr>\n",
       "<td width=\"100%\">\n",
       "<p><b><tt>What makes a </tt></b><font size=\"5\"><tt><b>big</b></tt></font><tt><b>\n",
       "            story </b></tt><font size=\"5\"><tt><b>BIG?</b></tt></font>\n",
       "<blockquote>\n",
       "<p>It depends on your criteria, of course, and your perspective. That's why we offered\n",
       "            a poll to find out what you think.</p>\n",
       "<p>For our list, we polled producers throughout the CNN/Pathfinder family of networks\n",
       "            and publications, and weighed such criteria as a story's long-term implications,\n",
       "            geopolitical significance, user interest, amount of coverage, and old-fashioned newsworthiness.\n",
       "            All these things help make a \"big\" story big.</p>\n",
       "<p>By no means do we think our lists are the final word. Even our polls among CNN\n",
       "            producers turned up a wide variety of responses. The process is meant to encourage\n",
       "            you to reconsider the stories that dominated the media during the past year and determine\n",
       "            for yourself which were mere sensations and which were truly significant.\n",
       "            </p></blockquote>\n",
       "</p></td>\n",
       "</tr>\n",
       "</table>\n",
       "<br clear=\"ALL\"/>\n",
       "<br/>\n",
       "<center>\n",
       "<br clear=\"ALL\"/>\n",
       "<br/>\n",
       "<img align=\"MIDDLE\" height=\"1\" src=\"generic/dot.gif\" width=\"450\"/>\n",
       "<br clear=\"ALL\"/><br/>\n",
       "<table width=\"300\"><tr valign=\"CENTER\">\n",
       "<td align=\"CENTER\"><img alt=\"What you think\" border=\"0\" height=\"59\" src=\"what_you_think.gif\" width=\"60\"/></td>\n",
       "<td><strong><a href=\"/feedback/index.html\" name=\"_top\">Tell us what you think</a></strong><br/><br/>\n",
       "<strong><a href=\"/feedback/comments.html\" name=\"_top\">You said it...</a></strong></td>\n",
       "</tr></table>\n",
       "<br clear=\"ALL\"/>\n",
       "<br/>\n",
       "<img align=\"MIDDLE\" height=\"1\" src=\"generic/dot.gif\" width=\"450\"/>\n",
       "<br clear=\"ALL\"/><br/>\n",
       "</center>\n",
       "<center><a href=\"generic/credits.index.html\" target=\"_top\"><tt><b>C R E D I T S</b></tt></a></center>\n",
       "<br clear=\"ALL\"/>\n",
       "<br/>\n",
       "<img align=\"MIDDLE\" height=\"1\" src=\"generic/dot.gif\" width=\"450\"/>\n",
       "<br clear=\"ALL\"/><br/>\n",
       "<center><a href=\"#TOP\"><tt><b>Back to top</b></tt></a></center>\n",
       "<br clear=\"ALL\"/><br/>\n",
       "<font size=\"-1\"><p>© 1996 Cable News Network, Inc.<br/>\n",
       "All Rights Reserved.</p></font>\n",
       "<h6><a href=\"http://cnn.com/interactive_legal.html\" target=\"_top\">Terms</a> under which this\n",
       "     service is provided to you.</h6>\n",
       "</center>\n",
       "\n",
       "</blockquote>\n",
       "</body>\n",
       "</html>"
      ]
     },
     "execution_count": 15,
     "metadata": {},
     "output_type": "execute_result"
    }
   ],
   "source": [
    "soup = bs(html, 'html.parser')\n",
    "soup"
   ]
  },
  {
   "cell_type": "code",
   "execution_count": 16,
   "id": "1ec80404",
   "metadata": {},
   "outputs": [
    {
     "data": {
      "text/plain": [
       "'Top Ten Stories From 1996'"
      ]
     },
     "execution_count": 16,
     "metadata": {},
     "output_type": "execute_result"
    }
   ],
   "source": [
    "title = soup.title.text\n",
    "title"
   ]
  },
  {
   "cell_type": "code",
   "execution_count": null,
   "id": "fcc60a78",
   "metadata": {},
   "outputs": [],
   "source": [
    "paragraphs = soup.find_all('p')\n",
    "for p in paragraphs:\n",
    "    "
   ]
  },
  {
   "cell_type": "code",
   "execution_count": 17,
   "id": "075c3d95",
   "metadata": {},
   "outputs": [
    {
     "name": "stdout",
     "output_type": "stream",
     "text": [
      "Israel elects Netanyahu\n",
      "Crash of TWA Flight 800\n",
      "Russia elects Yeltsin\n",
      "U.S. elects Clinton\n",
      "Hutu-Tutsi conflict in central Africa\n",
      "Peace, elections in Bosnia\n",
      "U.S. base bombed in Saudi Arabia\n",
      "Centennial Olympic Games\n",
      "Advances against AIDS\n",
      "Unabomb suspect Ted Kaczynski arrested\n",
      "The top 10 stories according to our users\n",
      "Tell us what you think\n",
      "You said it...\n"
     ]
    }
   ],
   "source": [
    "tds = soup.find_all('td')\n",
    "headlines = []\n",
    "for td in tds:\n",
    "    if td.a:\n",
    "        if td.a.text:\n",
    "            headlines.append(td)\n",
    "for hd in headlines:\n",
    "    print(hd.text)"
   ]
  },
  {
   "cell_type": "code",
   "execution_count": 18,
   "id": "13d81d43",
   "metadata": {},
   "outputs": [
    {
     "name": "stdout",
     "output_type": "stream",
     "text": [
      "Israel elects Netanyahu\n",
      "Crash of TWA Flight 800\n",
      "Russia elects Yeltsin\n",
      "U.S. elects Clinton\n",
      "Hutu-Tutsi conflict in central Africa\n",
      "Peace, elections in Bosnia\n",
      "U.S. base bombed in Saudi Arabia\n",
      "Centennial Olympic Games\n",
      "Advances against AIDS\n",
      "Unabomb suspect Ted Kaczynski arrested\n"
     ]
    }
   ],
   "source": [
    "for x in range(10):\n",
    "    print(headlines[x].text)"
   ]
  },
  {
   "cell_type": "code",
   "execution_count": null,
   "id": "d9e33ea2",
   "metadata": {},
   "outputs": [],
   "source": []
  }
 ],
 "metadata": {
  "kernelspec": {
   "display_name": "Python [conda env:Pythondata2] *",
   "language": "python",
   "name": "conda-env-Pythondata2-py"
  },
  "language_info": {
   "codemirror_mode": {
    "name": "ipython",
    "version": 3
   },
   "file_extension": ".py",
   "mimetype": "text/x-python",
   "name": "python",
   "nbconvert_exporter": "python",
   "pygments_lexer": "ipython3",
   "version": "3.9.7"
  }
 },
 "nbformat": 4,
 "nbformat_minor": 5
}
